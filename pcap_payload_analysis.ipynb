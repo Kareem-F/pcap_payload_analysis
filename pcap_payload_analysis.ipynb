{
 "cells": [
  {
   "cell_type": "markdown",
   "metadata": {
    "deletable": true,
    "editable": true
   },
   "source": [
    "<h1 align='center'> Pcap Payload Analysis<br> For Automatic Generation of Signatures <br>Applied to Intrusion Detection Systems (IDS) </h1>\n",
    "\n",
    "### GOAL(s): \n",
    "1. Retrieve (fastest) the longest set of strings that repeats in the payload of packets of one (D)DoS attack \n",
    "2. Generates a signature for most known IDS (BRO, Suricata, and Snort) using the most frequent string in an (D)DoS attack trace\n",
    "3. Validate which (string matching and IDS) approaches provide the best result on detecting (D)DoS attacks."
   ]
  },
  {
   "cell_type": "markdown",
   "metadata": {
    "deletable": true,
    "editable": true
   },
   "source": [
    "## Which libraries I need to pre-process the pcap file? "
   ]
  },
  {
   "cell_type": "code",
   "execution_count": 17,
   "metadata": {
    "collapsed": true,
    "deletable": true,
    "editable": true
   },
   "outputs": [],
   "source": [
    "import pandas as pd\n",
    "import numpy as np\n",
    "\n",
    "from io import StringIO\n",
    "import re"
   ]
  },
  {
   "cell_type": "markdown",
   "metadata": {
    "deletable": true,
    "editable": true
   },
   "source": [
    "## What I used to get the payload from a pcap file?"
   ]
  },
  {
   "cell_type": "code",
   "execution_count": 244,
   "metadata": {
    "collapsed": true,
    "deletable": true,
    "editable": true
   },
   "outputs": [],
   "source": [
    "# !tcpdump -nttxv -r test.pcap > test.txt"
   ]
  },
  {
   "cell_type": "markdown",
   "metadata": {
    "deletable": true,
    "editable": true
   },
   "source": [
    "#### Question? r.t.f.m. http://www.tcpdump.org/tcpdump_man.html and http://www.tcpdump.org/ "
   ]
  },
  {
   "cell_type": "markdown",
   "metadata": {
    "deletable": true,
    "editable": true
   },
   "source": [
    "## How to load the (read) pcap file (with payload)?"
   ]
  },
  {
   "cell_type": "code",
   "execution_count": 276,
   "metadata": {
    "collapsed": false,
    "deletable": true,
    "editable": true
   },
   "outputs": [],
   "source": [
    "pcapfile='data/test.txt'"
   ]
  },
  {
   "cell_type": "markdown",
   "metadata": {
    "deletable": true,
    "editable": true
   },
   "source": [
    "## How the (read) pcap looks like?"
   ]
  },
  {
   "cell_type": "code",
   "execution_count": 277,
   "metadata": {
    "collapsed": false,
    "deletable": true,
    "editable": true
   },
   "outputs": [
    {
     "name": "stdout",
     "output_type": "stream",
     "text": [
      "1489661005.627745 ARP, Ethernet (len 6), IPv4 (len 4), Request who-has 130.89.13.20 tell 130.89.15.174, length 46\n",
      "0x0000:  0001 0800 0604 0001 902b 3431 4150 8259\n",
      "0x0010:  0fae 0000 0000 0000 8259 0d14 0000 0000\n",
      "0x0020:  0000 0000 0000 0000 0000 0000 0000\n",
      "1489661005.696902 IP (tos 0xc0, ttl 1, id 0, offset 0, flags [DF], proto IGMP (2), length 32, options (RA))\n",
      "130.89.14.205 > 224.0.0.251: igmp v2 report 224.0.0.251\n",
      "0x0000:  46c0 0020 0000 4000 0102 71f6 8259 0ecd\n",
      "0x0010:  e000 00fb 9404 0000 1600 0904 e000 00fb\n",
      "1489661005.741122 ARP, Ethernet (len 6), IPv4 (len 4), Request who-has 130.89.13.49 tell 130.89.13.14, length 46\n",
      "0x0000:  0001 0800 0604 0001 a4ba dbf7 a662 8259\n"
     ]
    }
   ],
   "source": [
    "lines_tobe_printed = 10\n",
    "\n",
    "with open(pcapfile) as myfile:\n",
    "    firstlines=myfile.readlines()[0:lines_tobe_printed] #put here the interval you want\n",
    "    for x in firstlines:\n",
    "        print(x.strip())"
   ]
  },
  {
   "cell_type": "markdown",
   "metadata": {
    "deletable": true,
    "editable": true
   },
   "source": [
    "## How to isolate only the payload (in a list)?"
   ]
  },
  {
   "cell_type": "code",
   "execution_count": 278,
   "metadata": {
    "collapsed": false,
    "deletable": true,
    "editable": true
   },
   "outputs": [],
   "source": [
    "sio = StringIO()\n",
    "fast_forward = True\n",
    "payload=''\n",
    "appended_data = []\n",
    "\n",
    "with open(pcapfile, 'rb') as f:\n",
    "    for line in f:\n",
    "        line = line.decode(\"utf-8\").strip() # converting Bytes in utf-8\n",
    "\n",
    "        if re.match(r'0x\\d+', line): #Getting lines that have payload\n",
    "            if line.startswith('0x0000'):\n",
    "                appended_data.append(payload.strip())\n",
    "                #print(payload.strip()) #DEBUG: Print the concatenated previous payload (without blank space in the beginning)\n",
    "                payload = ''\n",
    "            payload = payload + ' '+ line.split(':  ')[1] \n",
    "    appended_data.pop(0) # Removing the first line that is an empty line "
   ]
  },
  {
   "cell_type": "code",
   "execution_count": 279,
   "metadata": {
    "collapsed": false,
    "deletable": true,
    "editable": true
   },
   "outputs": [
    {
     "data": {
      "text/plain": [
       "list"
      ]
     },
     "execution_count": 279,
     "metadata": {},
     "output_type": "execute_result"
    }
   ],
   "source": [
    "type(appended_data)"
   ]
  },
  {
   "cell_type": "markdown",
   "metadata": {
    "deletable": true,
    "editable": true
   },
   "source": [
    "## Showing the first 5 payloads (lines)"
   ]
  },
  {
   "cell_type": "code",
   "execution_count": 280,
   "metadata": {
    "collapsed": false,
    "deletable": true,
    "editable": true
   },
   "outputs": [
    {
     "data": {
      "text/plain": [
       "['0001 0800 0604 0001 902b 3431 4150 8259 0fae 0000 0000 0000 8259 0d14 0000 0000 0000 0000 0000 0000 0000 0000 0000',\n",
       " '46c0 0020 0000 4000 0102 71f6 8259 0ecd e000 00fb 9404 0000 1600 0904 e000 00fb',\n",
       " '0001 0800 0604 0001 a4ba dbf7 a662 8259 0d0e 0000 0000 0000 8259 0d31 0000 0000 0000 0000 0000 0000 0000 0000 0000',\n",
       " '0001 0800 0604 0001 38c9 8617 999b 8259 0d15 0000 0000 0000 8259 0c01 0000 0000 0000 0000 0000 0000 0000 0000 0000']"
      ]
     },
     "execution_count": 280,
     "metadata": {},
     "output_type": "execute_result"
    }
   ],
   "source": [
    "appended_data[0:4]"
   ]
  },
  {
   "cell_type": "markdown",
   "metadata": {
    "deletable": true,
    "editable": true
   },
   "source": [
    "## How to load the (list of) packets payload into a dataframe?"
   ]
  },
  {
   "cell_type": "code",
   "execution_count": 281,
   "metadata": {
    "collapsed": false,
    "deletable": true,
    "editable": true
   },
   "outputs": [],
   "source": [
    "df = pd.DataFrame(appended_data)"
   ]
  },
  {
   "cell_type": "markdown",
   "metadata": {
    "deletable": true,
    "editable": true
   },
   "source": [
    "## How to show the first lines of the dataframe?"
   ]
  },
  {
   "cell_type": "code",
   "execution_count": 282,
   "metadata": {
    "collapsed": false,
    "deletable": true,
    "editable": true
   },
   "outputs": [
    {
     "data": {
      "text/html": [
       "<div>\n",
       "<table border=\"1\" class=\"dataframe\">\n",
       "  <thead>\n",
       "    <tr style=\"text-align: right;\">\n",
       "      <th></th>\n",
       "      <th>0</th>\n",
       "    </tr>\n",
       "  </thead>\n",
       "  <tbody>\n",
       "    <tr>\n",
       "      <th>0</th>\n",
       "      <td>0001 0800 0604 0001 902b 3431 4150 8259 0fae 0...</td>\n",
       "    </tr>\n",
       "    <tr>\n",
       "      <th>1</th>\n",
       "      <td>46c0 0020 0000 4000 0102 71f6 8259 0ecd e000 0...</td>\n",
       "    </tr>\n",
       "    <tr>\n",
       "      <th>2</th>\n",
       "      <td>0001 0800 0604 0001 a4ba dbf7 a662 8259 0d0e 0...</td>\n",
       "    </tr>\n",
       "    <tr>\n",
       "      <th>3</th>\n",
       "      <td>0001 0800 0604 0001 38c9 8617 999b 8259 0d15 0...</td>\n",
       "    </tr>\n",
       "    <tr>\n",
       "      <th>4</th>\n",
       "      <td>0001 0800 0604 0001 902b 3431 4150 8259 0fae 0...</td>\n",
       "    </tr>\n",
       "  </tbody>\n",
       "</table>\n",
       "</div>"
      ],
      "text/plain": [
       "                                                   0\n",
       "0  0001 0800 0604 0001 902b 3431 4150 8259 0fae 0...\n",
       "1  46c0 0020 0000 4000 0102 71f6 8259 0ecd e000 0...\n",
       "2  0001 0800 0604 0001 a4ba dbf7 a662 8259 0d0e 0...\n",
       "3  0001 0800 0604 0001 38c9 8617 999b 8259 0d15 0...\n",
       "4  0001 0800 0604 0001 902b 3431 4150 8259 0fae 0..."
      ]
     },
     "execution_count": 282,
     "metadata": {},
     "output_type": "execute_result"
    }
   ],
   "source": [
    "df.head()"
   ]
  },
  {
   "cell_type": "markdown",
   "metadata": {
    "deletable": true,
    "editable": true
   },
   "source": [
    "<h1 align='center'>=========================================================================<br>\n",
    "String Similarity Analysis<br>\n",
    "=========================================================================</h1>"
   ]
  },
  {
   "cell_type": "markdown",
   "metadata": {
    "deletable": true,
    "editable": true
   },
   "source": [
    "** String similarity, fuzzy string matching: **\n",
    "- Cosine distance\n",
    "- Damerau–Levenshtein distance\n",
    "- Euclidean distance\n",
    "- Fuzzy matching\n",
    "- Hamming distance\n",
    "- Jaccard distance\n",
    "- Jaro–Winkler distance\n",
    "- Levenshtein distance\n",
    "- Longest Common Substring distance\n",
    "- q-gram distance\n",
    "- Manhattan distance\n",
    "- Optimal matching\n",
    "- Sørensen–Dice coefficient\n",
    "- String kernel\n",
    "- Wagner–Fischer algorithm\n",
    "\n",
    " \n",
    "** Take a look also in:**\n",
    "- SequenceMatcher from difflib\n",
    "- get_matching_blocks from SequenceMatcher from difflib\n",
    "- genoma alignment (e.g., Pairwise Sequence Alignment)"
   ]
  },
  {
   "cell_type": "code",
   "execution_count": null,
   "metadata": {
    "collapsed": true
   },
   "outputs": [],
   "source": []
  }
 ],
 "metadata": {
  "kernelspec": {
   "display_name": "Python 3",
   "language": "python",
   "name": "python3"
  },
  "language_info": {
   "codemirror_mode": {
    "name": "ipython",
    "version": 3
   },
   "file_extension": ".py",
   "mimetype": "text/x-python",
   "name": "python",
   "nbconvert_exporter": "python",
   "pygments_lexer": "ipython3",
   "version": "3.5.2"
  }
 },
 "nbformat": 4,
 "nbformat_minor": 2
}
